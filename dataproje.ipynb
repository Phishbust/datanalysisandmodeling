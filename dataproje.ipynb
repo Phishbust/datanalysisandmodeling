{
 "cells": [
  {
   "cell_type": "code",
   "execution_count": 1,
   "metadata": {},
   "outputs": [],
   "source": [
    "import pandas as pd"
   ]
  },
  {
   "cell_type": "code",
   "execution_count": 3,
   "metadata": {},
   "outputs": [],
   "source": [
    "data = pd.read_csv('dataset_B_05_2020.csv',encoding='utf-8',engine='python')"
   ]
  },
  {
   "cell_type": "markdown",
   "metadata": {},
   "source": [
    "#burda pandas kullanarak dosyayi read_csv yoluyla okundu "
   ]
  },
  {
   "cell_type": "code",
   "execution_count": 4,
   "metadata": {},
   "outputs": [],
   "source": [
    "dosya ='dosya.csv'\n"
   ]
  },
  {
   "cell_type": "code",
   "execution_count": null,
   "metadata": {},
   "outputs": [],
   "source": [
    "dataset=data[['url','length_url','length_hostname','ip','nb_dots','nb_hyphens',\n",
    "              'nb_qm','nb_and','nb_eq','nb_underscore','nb_slash','nb_www',\n",
    "              'nb_com','https_token','ratio_digits_url','ratio_digits_host','tld_in_subdomain',\n",
    "              'tld_in_subdomain','nb_subdomains','prefix_suffix','random_domain',\n",
    "              'shortening_service','nb_redirection','length_words_raw','char_repeat','shortest_words_raw',\n",
    "              'shortest_word_host','shortest_word_path','longest_words_raw','longest_word_host','longest_word_path',\n",
    "             'avg_words_raw','avg_word_host','avg_word_path', 'nb_hyperlinks','ratio_intHyperlinks','ratio_extHyperlinks',\n",
    "              'nb_extCSS','ratio_extRedirection','ratio_extErrors','external_favicon','links_in_tags','ratio_intMedia',\n",
    "              'ratio_extMedia','safe_anchor','domain_in_title','domain_with_copyright','domain_registration_length',\n",
    "              'domain_age','web_traffic','dns_record','google_index','page_rank','status']]"
   ]
  },
  {
   "cell_type": "markdown",
   "metadata": {},
   "source": [
    "#burda dosyadaki bulunan her sutunu alarak yazildi ve bazi sutunlerde tekrarlanan ayni degerler (0-1) gibi bunlari silip yeniden duzelttim "
   ]
  },
  {
   "cell_type": "code",
   "execution_count": 11,
   "metadata": {},
   "outputs": [
    {
     "name": "stdout",
     "output_type": "stream",
     "text": [
      "                                                     url  length_url  \\\n",
      "0                  http://www.crestonwood.com/router.php          37   \n",
      "1      http://shadetreetechnology.com/V4/validation/a...          77   \n",
      "2      https://support-appleld.com.secureupdate.duila...         126   \n",
      "3                                     http://rgipt.ac.in          18   \n",
      "4      http://www.iracing.com/tracks/gateway-motorspo...          55   \n",
      "...                                                  ...         ...   \n",
      "11425      http://www.fontspace.com/category/blackletter          45   \n",
      "11426  http://www.budgetbots.com/server.php/Server%20...          84   \n",
      "11427  https://www.facebook.com/Interactive-Televisio...         105   \n",
      "11428             http://www.mypublicdomainpictures.com/          38   \n",
      "11429  http://174.139.46.123/ap/signin?openid.pape.ma...         477   \n",
      "\n",
      "       length_hostname  ip  nb_dots  nb_hyphens  nb_at  nb_qm  nb_and  nb_or  \\\n",
      "0                   19   0        3           0      0      0       0      0   \n",
      "1                   23   1        1           0      0      0       0      0   \n",
      "2                   50   1        4           1      0      1       2      0   \n",
      "3                   11   0        2           0      0      0       0      0   \n",
      "4                   15   0        2           2      0      0       0      0   \n",
      "...                ...  ..      ...         ...    ...    ...     ...    ...   \n",
      "11425               17   0        2           0      0      0       0      0   \n",
      "11426               18   0        5           0      1      1       0      0   \n",
      "11427               16   1        2           6      0      1       0      0   \n",
      "11428               30   0        2           0      0      0       0      0   \n",
      "11429               14   1       24           0      1      1       9      0   \n",
      "\n",
      "       ...  domain_in_title  domain_with_copyright  whois_registered_domain  \\\n",
      "0      ...                0                      1                        0   \n",
      "1      ...                1                      0                        0   \n",
      "2      ...                1                      0                        0   \n",
      "3      ...                1                      0                        0   \n",
      "4      ...                0                      1                        0   \n",
      "...    ...              ...                    ...                      ...   \n",
      "11425  ...                0                      0                        0   \n",
      "11426  ...                1                      0                        0   \n",
      "11427  ...                0                      0                        0   \n",
      "11428  ...                1                      0                        0   \n",
      "11429  ...                1                      1                        1   \n",
      "\n",
      "       domain_registration_length  domain_age  web_traffic  dns_record  \\\n",
      "0                              45          -1            0           1   \n",
      "1                              77        5767            0           0   \n",
      "2                              14        4004      5828815           0   \n",
      "3                              62          -1       107721           0   \n",
      "4                             224        8175         8725           0   \n",
      "...                           ...         ...          ...         ...   \n",
      "11425                         448        5396         3980           0   \n",
      "11426                         211        6728            0           0   \n",
      "11427                        2809        8515            8           0   \n",
      "11428                          85        2836      2455493           0   \n",
      "11429                           0          -1            0           1   \n",
      "\n",
      "       google_index  page_rank  status  \n",
      "0                 1          4       0  \n",
      "1                 1          2       1  \n",
      "2                 1          0       1  \n",
      "3                 0          3       0  \n",
      "4                 0          6       0  \n",
      "...             ...        ...     ...  \n",
      "11425             0          6       0  \n",
      "11426             1          0       1  \n",
      "11427             1         10       0  \n",
      "11428             0          4       0  \n",
      "11429             1          0       1  \n",
      "\n",
      "[11430 rows x 89 columns]\n"
     ]
    }
   ],
   "source": [
    "data_fm = pd.DataFrame(data)\n",
    "data_fm['status']=data_fm['status'].map({'phishing':1,'legitimate':0})\n",
    " "
   ]
  },
  {
   "cell_type": "markdown",
   "metadata": {},
   "source": [
    "#burda son sütündaki linklerin durumu yazıyor ve burda ben (phishing) yerine ==> 1 yazdım yani bu link sahte ve dolandırcı , (legitimate) yerine ==> 0 yazdım  ve bu link düzgün çalışyor ve hiç bir sıkıntısı yok ."
   ]
  },
  {
   "cell_type": "code",
   "execution_count": 25,
   "metadata": {},
   "outputs": [],
   "source": [
    "with open ('dosya','w',encoding='utf=8') as dosya:\n",
    "    data_fm.to_csv(dosya,index =False)"
   ]
  },
  {
   "cell_type": "markdown",
   "metadata": {},
   "source": [
    "#burda yeni bir dosya oluşturup okundu ve düzeltiğimiz değerler (datanalysiaç.csv) dosyasına yazıldı "
   ]
  },
  {
   "cell_type": "code",
   "execution_count": 22,
   "metadata": {},
   "outputs": [
    {
     "name": "stdout",
     "output_type": "stream",
     "text": [
      "                                                     url  length_url  \\\n",
      "0                  http://www.crestonwood.com/router.php          37   \n",
      "1      http://shadetreetechnology.com/V4/validation/a...          77   \n",
      "2      https://support-appleld.com.secureupdate.duila...         126   \n",
      "3                                     http://rgipt.ac.in          18   \n",
      "4      http://www.iracing.com/tracks/gateway-motorspo...          55   \n",
      "...                                                  ...         ...   \n",
      "11425      http://www.fontspace.com/category/blackletter          45   \n",
      "11426  http://www.budgetbots.com/server.php/Server%20...          84   \n",
      "11427  https://www.facebook.com/Interactive-Televisio...         105   \n",
      "11428             http://www.mypublicdomainpictures.com/          38   \n",
      "11429  http://174.139.46.123/ap/signin?openid.pape.ma...         477   \n",
      "\n",
      "       length_hostname  ip  nb_dots  nb_hyphens  nb_at  nb_qm  nb_and  nb_or  \\\n",
      "0                   19   0        3           0      0      0       0      0   \n",
      "1                   23   1        1           0      0      0       0      0   \n",
      "2                   50   1        4           1      0      1       2      0   \n",
      "3                   11   0        2           0      0      0       0      0   \n",
      "4                   15   0        2           2      0      0       0      0   \n",
      "...                ...  ..      ...         ...    ...    ...     ...    ...   \n",
      "11425               17   0        2           0      0      0       0      0   \n",
      "11426               18   0        5           0      1      1       0      0   \n",
      "11427               16   1        2           6      0      1       0      0   \n",
      "11428               30   0        2           0      0      0       0      0   \n",
      "11429               14   1       24           0      1      1       9      0   \n",
      "\n",
      "       ...  domain_in_title  domain_with_copyright  whois_registered_domain  \\\n",
      "0      ...                0                      1                        0   \n",
      "1      ...                1                      0                        0   \n",
      "2      ...                1                      0                        0   \n",
      "3      ...                1                      0                        0   \n",
      "4      ...                0                      1                        0   \n",
      "...    ...              ...                    ...                      ...   \n",
      "11425  ...                0                      0                        0   \n",
      "11426  ...                1                      0                        0   \n",
      "11427  ...                0                      0                        0   \n",
      "11428  ...                1                      0                        0   \n",
      "11429  ...                1                      1                        1   \n",
      "\n",
      "       domain_registration_length  domain_age  web_traffic  dns_record  \\\n",
      "0                              45          -1            0           1   \n",
      "1                              77        5767            0           0   \n",
      "2                              14        4004      5828815           0   \n",
      "3                              62          -1       107721           0   \n",
      "4                             224        8175         8725           0   \n",
      "...                           ...         ...          ...         ...   \n",
      "11425                         448        5396         3980           0   \n",
      "11426                         211        6728            0           0   \n",
      "11427                        2809        8515            8           0   \n",
      "11428                          85        2836      2455493           0   \n",
      "11429                           0          -1            0           1   \n",
      "\n",
      "       google_index  page_rank  status  \n",
      "0                 1          4       0  \n",
      "1                 1          2       1  \n",
      "2                 1          0       1  \n",
      "3                 0          3       0  \n",
      "4                 0          6       0  \n",
      "...             ...        ...     ...  \n",
      "11425             0          6       0  \n",
      "11426             1          0       1  \n",
      "11427             1         10       0  \n",
      "11428             0          4       0  \n",
      "11429             1          0       1  \n",
      "\n",
      "[11430 rows x 89 columns]\n"
     ]
    }
   ],
   "source": [
    "print (data_fm)"
   ]
  }
 ],
 "metadata": {
  "kernelspec": {
   "display_name": "Python 3",
   "language": "python",
   "name": "python3"
  },
  "language_info": {
   "codemirror_mode": {
    "name": "ipython",
    "version": 3
   },
   "file_extension": ".py",
   "mimetype": "text/x-python",
   "name": "python",
   "nbconvert_exporter": "python",
   "pygments_lexer": "ipython3",
   "version": "3.12.2"
  }
 },
 "nbformat": 4,
 "nbformat_minor": 2
}
