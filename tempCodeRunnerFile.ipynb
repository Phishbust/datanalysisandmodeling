import pandas as pd 
import numpy as np

data =pd.read_csv ('dataset_B_05_2020.csv',encoding='utf-8',engine='python')
dosya ='dosya.csv'

dataset=data[['url','length_url','length_hostname','ip','nb_dots','nb_hyphens',
              'nb_qm','nb_and','nb_eq','nb_underscore','nb_slash','nb_www',
              'nb_com','https_token','ratio_digits_url','ratio_digits_host','tld_in_subdomain',
              'tld_in_subdomain','nb_subdomains','prefix_suffix','random_domain',
              'shortening_service','nb_redirection','length_words_raw','char_repeat','shortest_words_raw',
              'shortest_word_host','shortest_word_path','longest_words_raw','longest_word_host','longest_word_path',
             'avg_words_raw','avg_word_host','avg_word_path', 'nb_hyperlinks','ratio_intHyperlinks','ratio_extHyperlinks',
              'nb_extCSS','ratio_extRedirection','ratio_extErrors','external_favicon','links_in_tags','ratio_intMedia',
              'ratio_extMedia','safe_anchor','domain_in_title','domain_with_copyright','domain_registration_length',
              'domain_age','web_traffic','dns_record','google_index','page_rank','status']]

data_fm = pd.DataFrame(dataset)
data_fm['status'] = data_fm['status'].map({'phishing': 1, 'legitimate': 0})

with open(dosya, 'w', encoding='utf-8') as dosya:
    data_fm.to_csv(dosya, index=False)

print (data_fm)
